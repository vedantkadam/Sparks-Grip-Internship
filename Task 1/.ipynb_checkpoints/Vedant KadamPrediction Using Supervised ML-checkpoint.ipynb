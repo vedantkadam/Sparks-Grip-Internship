{
 "cells": [
  {
   "cell_type": "markdown",
   "id": "c80bd041",
   "metadata": {},
   "source": [
    "# Task 1 : Prediction using Supervised ML\n",
    "Predict the percentage of an student based on number of study hours<br>\n",
    "Linear regression with 1 variable<br>\n",
    "Data at [http://bit.ly/w-data](http://bit.ly/w-data)<br>\n",
    "Predict score of student if studies for 9.25 hrs/day\n",
    "\n",
    "## Author : Vedant Kadam"
   ]
  },
  {
   "cell_type": "markdown",
   "id": "communist-investigator",
   "metadata": {},
   "source": [
    "Before doing anything else let's put the import statements at the top."
   ]
  },
  {
   "cell_type": "code",
   "execution_count": 1,
   "id": "continental-ridge",
   "metadata": {},
   "outputs": [],
   "source": [
    "import pandas as pd\n",
    "import numpy as np  \n",
    "import matplotlib.pyplot as plt  \n",
    "%matplotlib inline"
   ]
  },
  {
   "cell_type": "markdown",
   "id": "expired-criminal",
   "metadata": {},
   "source": [
    "Now let's download the data and load it into a pandas DataFrame"
   ]
  },
  {
   "cell_type": "code",
   "execution_count": 2,
   "id": "ready-zealand",
   "metadata": {},
   "outputs": [
    {
     "data": {
      "text/html": [
       "<div>\n",
       "<style scoped>\n",
       "    .dataframe tbody tr th:only-of-type {\n",
       "        vertical-align: middle;\n",
       "    }\n",
       "\n",
       "    .dataframe tbody tr th {\n",
       "        vertical-align: top;\n",
       "    }\n",
       "\n",
       "    .dataframe thead th {\n",
       "        text-align: right;\n",
       "    }\n",
       "</style>\n",
       "<table border=\"1\" class=\"dataframe\">\n",
       "  <thead>\n",
       "    <tr style=\"text-align: right;\">\n",
       "      <th></th>\n",
       "      <th>Hours</th>\n",
       "      <th>Scores</th>\n",
       "    </tr>\n",
       "  </thead>\n",
       "  <tbody>\n",
       "    <tr>\n",
       "      <th>0</th>\n",
       "      <td>2.5</td>\n",
       "      <td>21</td>\n",
       "    </tr>\n",
       "    <tr>\n",
       "      <th>1</th>\n",
       "      <td>5.1</td>\n",
       "      <td>47</td>\n",
       "    </tr>\n",
       "    <tr>\n",
       "      <th>2</th>\n",
       "      <td>3.2</td>\n",
       "      <td>27</td>\n",
       "    </tr>\n",
       "    <tr>\n",
       "      <th>3</th>\n",
       "      <td>8.5</td>\n",
       "      <td>75</td>\n",
       "    </tr>\n",
       "    <tr>\n",
       "      <th>4</th>\n",
       "      <td>3.5</td>\n",
       "      <td>30</td>\n",
       "    </tr>\n",
       "    <tr>\n",
       "      <th>5</th>\n",
       "      <td>1.5</td>\n",
       "      <td>20</td>\n",
       "    </tr>\n",
       "    <tr>\n",
       "      <th>6</th>\n",
       "      <td>9.2</td>\n",
       "      <td>88</td>\n",
       "    </tr>\n",
       "    <tr>\n",
       "      <th>7</th>\n",
       "      <td>5.5</td>\n",
       "      <td>60</td>\n",
       "    </tr>\n",
       "    <tr>\n",
       "      <th>8</th>\n",
       "      <td>8.3</td>\n",
       "      <td>81</td>\n",
       "    </tr>\n",
       "    <tr>\n",
       "      <th>9</th>\n",
       "      <td>2.7</td>\n",
       "      <td>25</td>\n",
       "    </tr>\n",
       "    <tr>\n",
       "      <th>10</th>\n",
       "      <td>7.7</td>\n",
       "      <td>85</td>\n",
       "    </tr>\n",
       "    <tr>\n",
       "      <th>11</th>\n",
       "      <td>5.9</td>\n",
       "      <td>62</td>\n",
       "    </tr>\n",
       "    <tr>\n",
       "      <th>12</th>\n",
       "      <td>4.5</td>\n",
       "      <td>41</td>\n",
       "    </tr>\n",
       "    <tr>\n",
       "      <th>13</th>\n",
       "      <td>3.3</td>\n",
       "      <td>42</td>\n",
       "    </tr>\n",
       "    <tr>\n",
       "      <th>14</th>\n",
       "      <td>1.1</td>\n",
       "      <td>17</td>\n",
       "    </tr>\n",
       "    <tr>\n",
       "      <th>15</th>\n",
       "      <td>8.9</td>\n",
       "      <td>95</td>\n",
       "    </tr>\n",
       "    <tr>\n",
       "      <th>16</th>\n",
       "      <td>2.5</td>\n",
       "      <td>30</td>\n",
       "    </tr>\n",
       "    <tr>\n",
       "      <th>17</th>\n",
       "      <td>1.9</td>\n",
       "      <td>24</td>\n",
       "    </tr>\n",
       "    <tr>\n",
       "      <th>18</th>\n",
       "      <td>6.1</td>\n",
       "      <td>67</td>\n",
       "    </tr>\n",
       "    <tr>\n",
       "      <th>19</th>\n",
       "      <td>7.4</td>\n",
       "      <td>69</td>\n",
       "    </tr>\n",
       "    <tr>\n",
       "      <th>20</th>\n",
       "      <td>2.7</td>\n",
       "      <td>30</td>\n",
       "    </tr>\n",
       "    <tr>\n",
       "      <th>21</th>\n",
       "      <td>4.8</td>\n",
       "      <td>54</td>\n",
       "    </tr>\n",
       "    <tr>\n",
       "      <th>22</th>\n",
       "      <td>3.8</td>\n",
       "      <td>35</td>\n",
       "    </tr>\n",
       "    <tr>\n",
       "      <th>23</th>\n",
       "      <td>6.9</td>\n",
       "      <td>76</td>\n",
       "    </tr>\n",
       "    <tr>\n",
       "      <th>24</th>\n",
       "      <td>7.8</td>\n",
       "      <td>86</td>\n",
       "    </tr>\n",
       "  </tbody>\n",
       "</table>\n",
       "</div>"
      ],
      "text/plain": [
       "    Hours  Scores\n",
       "0     2.5      21\n",
       "1     5.1      47\n",
       "2     3.2      27\n",
       "3     8.5      75\n",
       "4     3.5      30\n",
       "5     1.5      20\n",
       "6     9.2      88\n",
       "7     5.5      60\n",
       "8     8.3      81\n",
       "9     2.7      25\n",
       "10    7.7      85\n",
       "11    5.9      62\n",
       "12    4.5      41\n",
       "13    3.3      42\n",
       "14    1.1      17\n",
       "15    8.9      95\n",
       "16    2.5      30\n",
       "17    1.9      24\n",
       "18    6.1      67\n",
       "19    7.4      69\n",
       "20    2.7      30\n",
       "21    4.8      54\n",
       "22    3.8      35\n",
       "23    6.9      76\n",
       "24    7.8      86"
      ]
     },
     "metadata": {},
     "output_type": "display_data"
    }
   ],
   "source": [
    "data=pd.read_csv(\"student_scores.csv\")\n",
    "display(data)"
   ]
  },
  {
   "cell_type": "markdown",
   "id": "liberal-lewis",
   "metadata": {},
   "source": [
    "Now that the data is loaded nd we can see there are only 25 elements.\n",
    "<br>So let's put them in a scatter plot to get a idea of any trends we can see with naked eye"
   ]
  },
  {
   "cell_type": "code",
   "execution_count": 4,
   "id": "beginning-skirt",
   "metadata": {},
   "outputs": [
    {
     "data": {
      "text/plain": [
       "<AxesSubplot:xlabel='Hours', ylabel='Scores'>"
      ]
     },
     "execution_count": 4,
     "metadata": {},
     "output_type": "execute_result"
    },
    {
     "data": {
      "image/png": "[encoded data removed]",
      "text/plain": [
       "<Figure size 432x288 with 1 Axes>"
      ]
     },
     "metadata": {
      "needs_background": "light"
     },
     "output_type": "display_data"
    }
   ],
   "source": [
    "data.plot.scatter(x=\"Hours\",y=\"Scores\",grid=True)"
   ]
  },
  {
   "cell_type": "markdown",
   "id": "suspected-trademark",
   "metadata": {},
   "source": [
    "From this it is visible that the trend is upwards, ie. the more hours studied the more scores students got, which is pretty intuitive<br>\n",
    "So the line that we fit with linear regression will point upwards and will have a positive slope"
   ]
  },
  {
   "cell_type": "markdown",
   "id": "prescription-momentum",
   "metadata": {},
   "source": [
    "# Train-Test Split\n",
    "Now that we have seen the trends let's split the data into 4 parts:\n",
    "- X_train\n",
    "- X_test\n",
    "- Y_train\n",
    "- Y_test"
   ]
  },
  {
   "cell_type": "code",
   "execution_count": 5,
   "id": "arabic-canberra",
   "metadata": {},
   "outputs": [],
   "source": [
    "X = data.iloc[:, :-1].values #hours\n",
    "Y = data.iloc[:, 1].values #score\n",
    "from sklearn.model_selection import train_test_split\n",
    "X_train, X_test, Y_train, Y_test = train_test_split(X, Y,test_size=0.2, random_state=3) "
   ]
  },
  {
   "cell_type": "markdown",
   "id": "roman-church",
   "metadata": {},
   "source": [
    "# Train Liner Regression\n",
    "\n",
    "Now that we have the data in segments we can use the scikitlearn module that will train it on linear regression<br>\n",
    "Later we can predict on that model and solve the task"
   ]
  },
  {
   "cell_type": "code",
   "execution_count": 6,
   "id": "allied-scotland",
   "metadata": {},
   "outputs": [
    {
     "name": "stdout",
     "output_type": "stream",
     "text": [
      "Linear Regression Training Complete\n"
     ]
    }
   ],
   "source": [
    "from sklearn.linear_model import LinearRegression\n",
    "reg=LinearRegression().fit(X_train,Y_train)\n",
    "print(\"Linear Regression Training Complete\")"
   ]
  },
  {
   "cell_type": "markdown",
   "id": "sharp-marsh",
   "metadata": {},
   "source": [
    "Now let's plot this regressor onto the scatter plot to check if it fits visually"
   ]
  },
  {
   "cell_type": "code",
   "execution_count": 7,
   "id": "physical-shannon",
   "metadata": {},
   "outputs": [
    {
     "data": {
      "image/png": "[encoded data removed]",
      "text/plain": [
       "<Figure size 432x288 with 1 Axes>"
      ]
     },
     "metadata": {
      "needs_background": "light"
     },
     "output_type": "display_data"
    }
   ],
   "source": [
    "line = reg.coef_*X+reg.intercept_\n",
    "plt.scatter(X,Y)\n",
    "plt.plot(X,line)\n",
    "plt.grid()\n",
    "plt.show()"
   ]
  },
  {
   "cell_type": "markdown",
   "id": "oriented-qualification",
   "metadata": {},
   "source": [
    "# Testing on test data and making predictions\n",
    "Now that the model is trained. Let's test it out on the test data"
   ]
  },
  {
   "cell_type": "code",
   "execution_count": 8,
   "id": "aggressive-consultation",
   "metadata": {},
   "outputs": [
    {
     "name": "stdout",
     "output_type": "stream",
     "text": [
      "[61.07240199 21.18113131 45.87572744 68.67073926 87.66658244]\n"
     ]
    }
   ],
   "source": [
    "Y_ans=reg.predict(X_test)\n",
    "print(Y_ans)"
   ]
  },
  {
   "cell_type": "code",
   "execution_count": 9,
   "id": "other-burst",
   "metadata": {},
   "outputs": [
    {
     "data": {
      "text/html": [
       "<div>\n",
       "<style scoped>\n",
       "    .dataframe tbody tr th:only-of-type {\n",
       "        vertical-align: middle;\n",
       "    }\n",
       "\n",
       "    .dataframe tbody tr th {\n",
       "        vertical-align: top;\n",
       "    }\n",
       "\n",
       "    .dataframe thead th {\n",
       "        text-align: right;\n",
       "    }\n",
       "</style>\n",
       "<table border=\"1\" class=\"dataframe\">\n",
       "  <thead>\n",
       "    <tr style=\"text-align: right;\">\n",
       "      <th></th>\n",
       "      <th>Hours Studied</th>\n",
       "      <th>Predicted Score</th>\n",
       "      <th>Actual Score</th>\n",
       "    </tr>\n",
       "  </thead>\n",
       "  <tbody>\n",
       "    <tr>\n",
       "      <th>0</th>\n",
       "      <td>6.1</td>\n",
       "      <td>61.072402</td>\n",
       "      <td>67</td>\n",
       "    </tr>\n",
       "    <tr>\n",
       "      <th>1</th>\n",
       "      <td>1.9</td>\n",
       "      <td>21.181131</td>\n",
       "      <td>24</td>\n",
       "    </tr>\n",
       "    <tr>\n",
       "      <th>2</th>\n",
       "      <td>4.5</td>\n",
       "      <td>45.875727</td>\n",
       "      <td>41</td>\n",
       "    </tr>\n",
       "    <tr>\n",
       "      <th>3</th>\n",
       "      <td>6.9</td>\n",
       "      <td>68.670739</td>\n",
       "      <td>76</td>\n",
       "    </tr>\n",
       "    <tr>\n",
       "      <th>4</th>\n",
       "      <td>8.9</td>\n",
       "      <td>87.666582</td>\n",
       "      <td>95</td>\n",
       "    </tr>\n",
       "  </tbody>\n",
       "</table>\n",
       "</div>"
      ],
      "text/plain": [
       "   Hours Studied  Predicted Score  Actual Score\n",
       "0            6.1        61.072402            67\n",
       "1            1.9        21.181131            24\n",
       "2            4.5        45.875727            41\n",
       "3            6.9        68.670739            76\n",
       "4            8.9        87.666582            95"
      ]
     },
     "metadata": {},
     "output_type": "display_data"
    }
   ],
   "source": [
    "display(pd.DataFrame({\"Hours Studied\":X_test.flatten(),\"Predicted Score\":Y_ans,\"Actual Score\":Y_test}))"
   ]
  },
  {
   "cell_type": "markdown",
   "id": "sorted-composite",
   "metadata": {},
   "source": [
    "In our question we were given to predict score of student if studies for 9.25 hrs/day. So let's do that"
   ]
  },
  {
   "cell_type": "code",
   "execution_count": 10,
   "id": "explicit-scanner",
   "metadata": {},
   "outputs": [
    {
     "data": {
      "text/html": [
       "<style  type=\"text/css\" >\n",
       "</style><table id=\"T_73811_\" ><thead>    <tr>        <th class=\"col_heading level0 col0\" >Hours Studies</th>        <th class=\"col_heading level0 col1\" >Predicted Score</th>    </tr></thead><tbody>\n",
       "                <tr>\n",
       "                                <td id=\"T_73811_row0_col0\" class=\"data row0 col0\" >9.250000</td>\n",
       "                        <td id=\"T_73811_row0_col1\" class=\"data row0 col1\" >90.990855</td>\n",
       "            </tr>\n",
       "    </tbody></table>"
      ],
      "text/plain": [
       "<pandas.io.formats.style.Styler at 0x1d9fc03d8b0>"
      ]
     },
     "metadata": {},
     "output_type": "display_data"
    }
   ],
   "source": [
    "display(pd.DataFrame({\"Hours Studies\":[9.25],\"Predicted Score\":reg.predict(np.array([[9.25]]))}).style.hide_index())"
   ]
  },
  {
   "cell_type": "markdown",
   "id": "regulated-office",
   "metadata": {},
   "source": [
    "We can see from the above that the predicted score for **studying for 9.25 hrs** is **90.99 ≈ 91**"
   ]
  },
  {
   "cell_type": "markdown",
   "id": "thrown-elephant",
   "metadata": {},
   "source": [
    "# Checking Performance of Model\n",
    "Now that we have the answer. Now let's see the performance of the model.\n",
    "<br>Some of the common metrics that I used was:\n",
    "- R2 Score\n",
    "- Mean Absolute Error\n",
    "- Mean Squared Error\n",
    "- Root Mean Squared(RMS) Error"
   ]
  },
  {
   "cell_type": "code",
   "execution_count": 11,
   "id": "selected-homework",
   "metadata": {},
   "outputs": [
    {
     "name": "stdout",
     "output_type": "stream",
     "text": [
      "R2 Score : 0.9452617628334009\n",
      "Mean Absolute Error: 5.656974488548374\n",
      "Root Mean Squared Error: 5.905120371729122\n",
      "Mean Squared Error: 34.87044660461029\n"
     ]
    }
   ],
   "source": [
    "from sklearn.metrics import r2_score,mean_absolute_error,mean_squared_error\n",
    "print(\"R2 Score :\",r2_score(Y_test,Y_ans))\n",
    "print('Mean Absolute Error:',mean_absolute_error(Y_test,Y_ans)) \n",
    "print('Root Mean Squared Error:',mean_squared_error(Y_test,Y_ans,squared=False)) \n",
    "print('Mean Squared Error:',mean_squared_error(Y_test,Y_ans,squared=True)) "
   ]
  },
  {
   "cell_type": "code",
   "execution_count": null,
   "id": "emerging-calculation",
   "metadata": {},
   "outputs": [],
   "source": []
  }
 ],
 "metadata": {
  "kernelspec": {
   "display_name": "Python 3 (ipykernel)",
   "language": "python",
   "name": "python3"
  },
  "language_info": {
   "codemirror_mode": {
    "name": "ipython",
    "version": 3
   },
   "file_extension": ".py",
   "mimetype": "text/x-python",
   "name": "python",
   "nbconvert_exporter": "python",
   "pygments_lexer": "ipython3",
   "version": "3.9.12"
  }
 },
 "nbformat": 4,
 "nbformat_minor": 5
}
